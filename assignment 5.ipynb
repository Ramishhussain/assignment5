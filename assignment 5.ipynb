{
 "cells": [
  {
   "cell_type": "code",
   "execution_count": 1,
   "metadata": {
    "collapsed": false
   },
   "outputs": [
    {
     "ename": "SyntaxError",
     "evalue": "invalid syntax (<ipython-input-1-22bd1df11eda>, line 10)",
     "output_type": "error",
     "traceback": [
      "\u001b[1;36m  File \u001b[1;32m\"<ipython-input-1-22bd1df11eda>\"\u001b[1;36m, line \u001b[1;32m10\u001b[0m\n\u001b[1;33m    print(f\"\"\"please enter non negative Number like '2','10'\"\"\")\u001b[0m\n\u001b[1;37m                                                              ^\u001b[0m\n\u001b[1;31mSyntaxError\u001b[0m\u001b[1;31m:\u001b[0m invalid syntax\n"
     ]
    }
   ],
   "source": [
    "# Question:1 Write a Python function to calculate the factorial of a number (a non-negative integer). \n",
    "# The function accepts the number as an argument.\n",
    "\n",
    "def Factorial(User_input):\n",
    "    result = 1\n",
    "    if User_input > 0:\n",
    "        for numbers in range(User_input,1,-1):\n",
    "            result *= numbers\n",
    "    else:\n",
    "        print(f\"\"\"please enter non negative Number like '2','10'\"\"\")\n",
    "    return result\n",
    "\n",
    "User_input=int(input(\"Enter Your Number = \"))\n",
    "result = Factorial(User_input)\n",
    "print(f\"\"\"Factorial of {User_input}! = {result}\n",
    "        \"\"\")"
   ]
  },
  {
   "cell_type": "code",
   "execution_count": null,
   "metadata": {
    "collapsed": true
   },
   "outputs": [],
   "source": [
    "# Question:3 Write a Python function to print the even numbers from a given list.\n",
    "Numbers = [1, 2, 3, 4, 5, 6, 7, 8, 9, 3, 5, 7, 10 ,22, 200, 1000, 1600]\n",
    "def Even_number_Finder(list_of_numbers):\n",
    "    even_number = []\n",
    "    for number in list_of_numbers:\n",
    "        if (number%2) == 0:\n",
    "            even_number.append(number)\n",
    "    return even_number\n",
    "\n",
    "\n",
    "even_number = Even_number_Finder(Numbers)\n",
    "print(f\"\"\" Enven number in the list = {even_number} \"\"\")"
   ]
  },
  {
   "cell_type": "code",
   "execution_count": 2,
   "metadata": {
    "collapsed": false
   },
   "outputs": [
    {
     "ename": "SyntaxError",
     "evalue": "invalid syntax (<ipython-input-2-04a81e3cf0b2>, line 21)",
     "output_type": "error",
     "traceback": [
      "\u001b[1;36m  File \u001b[1;32m\"<ipython-input-2-04a81e3cf0b2>\"\u001b[1;36m, line \u001b[1;32m21\u001b[0m\n\u001b[1;33m    print(f\"\"\" Total Capital letter found in your string is = {upper_letter}\"\"\")\u001b[0m\n\u001b[1;37m                                                                              ^\u001b[0m\n\u001b[1;31mSyntaxError\u001b[0m\u001b[1;31m:\u001b[0m invalid syntax\n"
     ]
    }
   ],
   "source": [
    "# Question:2 Write a Python function that accepts a string and calculate the number of upper case letters and lower case letters\n",
    "def Upper_Lower_case_calculator(string):\n",
    "    print(string)\n",
    "    upper_letter = 0\n",
    "    lower_letter = 0\n",
    "    for word in string:\n",
    "        for char in word:\n",
    "            if char.isupper():\n",
    "                upper_letter += 1 \n",
    "            else:\n",
    "                lower_letter += 1\n",
    "    return upper_letter,lower_letter\n",
    "\n",
    "\n",
    "User_input = input(\"Enter Your String  = \")\n",
    "string = User_input.split()\n",
    "result = Upper_Lower_case_calculator(string)\n",
    "upper_letter,lower_letter = result\n",
    "\n",
    "\n",
    "print(f\"\"\" Total Capital letter found in your string is = {upper_letter}\"\"\")\n",
    "print(f\"\"\" Total small letter found in your string is = {lower_letter}\"\"\")\n"
   ]
  },
  {
   "cell_type": "code",
   "execution_count": null,
   "metadata": {
    "collapsed": true
   },
   "outputs": [],
   "source": [
    "# Question:4 Write a Python function that checks whether a passed string is palindrome or not. \n",
    "# Note: A palindrome is a word, phrase, or sequence that reads the same backward as forward, e.g., madam\n",
    "\n",
    "\n",
    "def palindrome_checker(string):\n",
    "    strings = list(string)\n",
    "    string_reverse = list(string)\n",
    "    string_reverse.reverse()\n",
    "    if strings == string_reverse:\n",
    "        print(\"yes it is palndrome\")\n",
    "    else:\n",
    "        print(\"given string is not palindrome\")\n",
    "        \n",
    "        \n",
    "string1= \"LOL\"\n",
    "palindrome_checker(string1)\n",
    "string2 = \"LOLS\"\n",
    "palindrome_checker(string2)"
   ]
  },
  {
   "cell_type": "code",
   "execution_count": null,
   "metadata": {
    "collapsed": true
   },
   "outputs": [],
   "source": [
    "# Question:5 Write a Python function that takes a number as a parameter and check the number is prime or not.\n",
    "User_input = int(input(\"Enter your number to check either its prime or not.\"))\n",
    "if User_input == 1:\n",
    "    print(\"prime number\")\n",
    "else:\n",
    "    for number in range(2,User_input+1,1):\n",
    "        if number != User_input:\n",
    "            if User_input % number == 0 :\n",
    "                print(\"Not a prime number\")\n",
    "                break\n",
    "        elif number == User_input:\n",
    "            print(\"prime number\")"
   ]
  },
  {
   "cell_type": "code",
   "execution_count": null,
   "metadata": {
    "collapsed": true
   },
   "outputs": [],
   "source": [
    "# Question: 6 Suppose a customer is shopping in a market and you need to print all the items which user bought from market. \n",
    "# Write a function which accepts the multiple arguments of user shopping list and print all the items which user bought from \n",
    "# market. (Hint: Arbitrary Argument concept can make this task ease)\n",
    "\n",
    "def shopping_Items_list(**itemz):\n",
    "    total = 0\n",
    "    for item_name,cost in itemz.items():\n",
    "        print(f\"\"\" {item_name} = {cost} \"\"\")\n",
    "        total += int(cost)\n",
    "    print(\"Total cost of your items is  \",total)\n",
    "    \n",
    "shopping_Items_list(rice=\"200\",Oil=\"500\",chicken=\"300\")"
   ]
  }
 ],
 "metadata": {
  "anaconda-cloud": {},
  "kernelspec": {
   "display_name": "Python [Root]",
   "language": "python",
   "name": "Python [Root]"
  },
  "language_info": {
   "codemirror_mode": {
    "name": "ipython",
    "version": 3
   },
   "file_extension": ".py",
   "mimetype": "text/x-python",
   "name": "python",
   "nbconvert_exporter": "python",
   "pygments_lexer": "ipython3",
   "version": "3.5.2"
  }
 },
 "nbformat": 4,
 "nbformat_minor": 0
}
